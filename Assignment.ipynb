{
  "nbformat": 4,
  "nbformat_minor": 0,
  "metadata": {
    "colab": {
      "provenance": []
    },
    "kernelspec": {
      "name": "python3",
      "display_name": "Python 3"
    },
    "language_info": {
      "name": "python"
    }
  },
  "cells": [
    {
      "cell_type": "code",
      "execution_count": 47,
      "metadata": {
        "id": "yLzrzzMiEuMz"
      },
      "outputs": [],
      "source": []
    },
    {
      "cell_type": "markdown",
      "source": [
        "# Assignment"
      ],
      "metadata": {
        "id": "df6vSB27FCfC"
      }
    },
    {
      "cell_type": "markdown",
      "source": [
        "1. Explain the key features of Python that make it a popular choice for programming.\n",
        "- Python is simple and easy to learn and understand.\n",
        "- Python is a Free & Open source, high level, interpreted, scripting language.\n",
        "- It is a dynamic typed language.\n",
        "- Python has both functions and Object Oriented approaches.\n",
        "- Python has more built-in library, example:-( Numpy, pandas, Dash plotly Etc.) supportive community which helps. learning, troubleshooting,data cleaning, analysis and Visualization.\n",
        "- Python is widely used in Data science and machine learning due to its versatility readability.\n",
        "\n",
        "2. Describe the role of predefined keywords in Python and provide examples of how they are used in a program.\n",
        "- There are various role of each predefined keywords in python, each key words have some special meaning and purpose used for defining the language's syntax and structure. They can not be used as identifiers like variable or function name.\n",
        "- Example:-*some predefined keywords in python* (True,False,None,in,if,elif,for,while,break,continue,import,def,etc)\n",
        "\n",
        "\n"
      ],
      "metadata": {
        "id": "3NQ7G7YvGKTv"
      }
    },
    {
      "cell_type": "code",
      "source": [
        "# logical operator"
      ],
      "metadata": {
        "id": "CbLPsiHejGMU"
      },
      "execution_count": 48,
      "outputs": []
    },
    {
      "cell_type": "code",
      "source": [
        "val1=True  # true and false is a key word\n",
        "val2=False\n",
        "print(\"and operator:\",val1 and val2)"
      ],
      "metadata": {
        "colab": {
          "base_uri": "https://localhost:8080/"
        },
        "id": "6hggL3hXjgsg",
        "outputId": "958dd0cc-8ffd-4bd9-da24-1b1fa06dd9f2"
      },
      "execution_count": 49,
      "outputs": [
        {
          "output_type": "stream",
          "name": "stdout",
          "text": [
            "and operator: False\n"
          ]
        }
      ]
    },
    {
      "cell_type": "code",
      "source": [
        "val1= True\n",
        "val2= True\n",
        "print(\"and operator\",val1 and val2)"
      ],
      "metadata": {
        "colab": {
          "base_uri": "https://localhost:8080/"
        },
        "id": "f5tCsfatkPdY",
        "outputId": "6509cff5-9971-48d3-f18d-9318857761f1"
      },
      "execution_count": 50,
      "outputs": [
        {
          "output_type": "stream",
          "name": "stdout",
          "text": [
            "and operator True\n"
          ]
        }
      ]
    },
    {
      "cell_type": "code",
      "source": [
        "a= 20\n",
        "b= 50\n",
        "print(\"OR operator:\",(a==b) or (a>b))"
      ],
      "metadata": {
        "colab": {
          "base_uri": "https://localhost:8080/"
        },
        "id": "-bWl2XiekvGy",
        "outputId": "da0dbf2d-cb30-415f-9dc0-8407758ad35b"
      },
      "execution_count": 51,
      "outputs": [
        {
          "output_type": "stream",
          "name": "stdout",
          "text": [
            "OR operator: False\n"
          ]
        }
      ]
    },
    {
      "cell_type": "code",
      "source": [
        "# conditional statements"
      ],
      "metadata": {
        "id": "zesxmQQCnSmi"
      },
      "execution_count": 52,
      "outputs": []
    },
    {
      "cell_type": "code",
      "source": [
        "age= 25\n",
        "if(age>=18):        # if and else is key word\n",
        "    print(\"you are eligible to vote\")\n",
        "else:\n",
        "    print(\"you are not eligible to vote\")"
      ],
      "metadata": {
        "colab": {
          "base_uri": "https://localhost:8080/"
        },
        "id": "ewWMBvZDnytv",
        "outputId": "825e9941-e5c6-4104-cd8b-28cc82df2ddb"
      },
      "execution_count": 53,
      "outputs": [
        {
          "output_type": "stream",
          "name": "stdout",
          "text": [
            "you are eligible to vote\n"
          ]
        }
      ]
    },
    {
      "cell_type": "code",
      "source": [
        "light = \"green\"\n",
        "if light == \"red\":\n",
        "  print(\"stop\")\n",
        "elif light == \"green\":    # elif is also a keyword in python\n",
        "  print(\"go\")\n",
        "elif light ==\"yellow\":\n",
        "  print(\"ready\")\n",
        "  print(\"end of code\")"
      ],
      "metadata": {
        "colab": {
          "base_uri": "https://localhost:8080/"
        },
        "id": "dR05c6lXrT-J",
        "outputId": "0f774344-87b6-43ca-a22e-33c119c1171a"
      },
      "execution_count": 54,
      "outputs": [
        {
          "output_type": "stream",
          "name": "stdout",
          "text": [
            "go\n"
          ]
        }
      ]
    },
    {
      "cell_type": "code",
      "source": [
        "marks = int(input(\"please enter students marks: \"))   # input() statement is used to accept value ( using keyboard ) from user\n",
        "if marks >= 90:\n",
        "  grade=\"A\"\n",
        "  print(\"Excellent performance \")\n",
        "elif marks >= 80 and marks < 90:\n",
        "  grade=\"B\"\n",
        "  print(\"Good performance\")\n",
        "elif marks >= 70 and marks <80:\n",
        "  grade=\"C\"\n",
        "  print(\"Average performance\")\n",
        "else:\n",
        "  grade=\"D\"\n",
        "print(\"Grade of the students:\", grade)"
      ],
      "metadata": {
        "colab": {
          "base_uri": "https://localhost:8080/"
        },
        "id": "ctipNDfitZIE",
        "outputId": "4afaf80d-cabd-402a-930c-5700b5403f92"
      },
      "execution_count": 55,
      "outputs": [
        {
          "output_type": "stream",
          "name": "stdout",
          "text": [
            "please enter students marks: 95\n",
            "Excellent performance \n",
            "Grade of the students: A\n"
          ]
        }
      ]
    },
    {
      "cell_type": "code",
      "source": [
        "# Loops in python are used to repeat instructions"
      ],
      "metadata": {
        "id": "uqe_wQKcx-6z"
      },
      "execution_count": 56,
      "outputs": []
    },
    {
      "cell_type": "code",
      "source": [
        "i=1       # i is variable for iteration\n",
        "\n",
        "while i<=5:         # while is key word in python\n",
        "  print(\"hello\")\n",
        "  i=i+1\n"
      ],
      "metadata": {
        "colab": {
          "base_uri": "https://localhost:8080/"
        },
        "id": "bOHHvzIazx9n",
        "outputId": "f782be93-5bb6-4477-a70c-002fbe73b976"
      },
      "execution_count": 57,
      "outputs": [
        {
          "output_type": "stream",
          "name": "stdout",
          "text": [
            "hello\n",
            "hello\n",
            "hello\n",
            "hello\n",
            "hello\n"
          ]
        }
      ]
    },
    {
      "cell_type": "code",
      "source": [
        "i=1\n",
        "while i<=5:\n",
        "  print(i)\n",
        "  if(i==3):\n",
        "    break       # break used to terminate the loop when encountered\n",
        "  i=i+i\n",
        "print(\"end of the loop\")"
      ],
      "metadata": {
        "colab": {
          "base_uri": "https://localhost:8080/"
        },
        "id": "3ZMtD-o12N5H",
        "outputId": "6d3859b5-dbb3-4e5f-e559-debe78228a7b"
      },
      "execution_count": 58,
      "outputs": [
        {
          "output_type": "stream",
          "name": "stdout",
          "text": [
            "1\n",
            "2\n",
            "4\n",
            "end of the loop\n"
          ]
        }
      ]
    },
    {
      "cell_type": "code",
      "source": [
        "i=1\n",
        "while i<=10:       # while loop (key word) used to print Even number\n",
        "  if(i%2!=0):\n",
        "    i=i+1\n",
        "    continue        # skip and terminate execution in the current iteration & continue execution of the loop with the next iteration\n",
        "  print(i)\n",
        "  i=i+1"
      ],
      "metadata": {
        "colab": {
          "base_uri": "https://localhost:8080/"
        },
        "id": "7LImgidv6dDl",
        "outputId": "ea6a712e-260a-4b8d-e74d-ba9ff5473b70"
      },
      "execution_count": 59,
      "outputs": [
        {
          "output_type": "stream",
          "name": "stdout",
          "text": [
            "2\n",
            "4\n",
            "6\n",
            "8\n",
            "10\n"
          ]
        }
      ]
    },
    {
      "cell_type": "code",
      "source": [
        "str = \"apple\"\n",
        "for char in str:    # For loops are used for sequential, for traversing list,string,tuples,etc. and (in) is also a key word in python\n",
        "    if(char=='l'):\n",
        "       print(\"l found\")\n",
        "       break\n",
        "    print(char)\n",
        "else:\n",
        "    print(\"end\")"
      ],
      "metadata": {
        "colab": {
          "base_uri": "https://localhost:8080/"
        },
        "id": "6AhxoKvH82rA",
        "outputId": "56f70acd-6f45-4579-ecb3-dde93ea6bef9"
      },
      "execution_count": 60,
      "outputs": [
        {
          "output_type": "stream",
          "name": "stdout",
          "text": [
            "a\n",
            "p\n",
            "p\n",
            "l found\n"
          ]
        }
      ]
    },
    {
      "cell_type": "markdown",
      "source": [
        "3. Compare and contrast mutable and immutable objects in Python with examples.\n",
        "- Mutable value can be changed after they are creatd. Example: - list,dict,set\n",
        "- Immutable value can not be changed after they are created. Example:- int,float,str,tuple etc."
      ],
      "metadata": {
        "id": "F4__4QYSWs6r"
      }
    },
    {
      "cell_type": "code",
      "source": [
        "# Some Example on mutable or immutable"
      ],
      "metadata": {
        "id": "5H0xtxOnY3jE"
      },
      "execution_count": 61,
      "outputs": []
    },
    {
      "cell_type": "code",
      "source": [
        "list=[1,2,4]     # mutable object example list\n",
        "print(\"original list\",list)\n",
        "list[1]=0\n",
        "print(list)"
      ],
      "metadata": {
        "colab": {
          "base_uri": "https://localhost:8080/"
        },
        "id": "S9Wn0eI9ZJYj",
        "outputId": "af718f18-92fa-4cce-ba43-89505d603f8d"
      },
      "execution_count": 63,
      "outputs": [
        {
          "output_type": "stream",
          "name": "stdout",
          "text": [
            "original list [1, 2, 4]\n",
            "[1, 0, 4]\n"
          ]
        }
      ]
    },
    {
      "cell_type": "markdown",
      "source": [
        "4. Discuss the different types of operators in Python and provide examples of how they are used.\n",
        "- In Python operators are special symbols or keywords and Python contains several operators, each with its unique purpose.\n",
        "- Types of Python Operators:  "
      ],
      "metadata": {
        "id": "aQm5tHL3muhF"
      }
    },
    {
      "cell_type": "code",
      "source": [
        "# 1. Arithmetic Operators Ex. with Symbol operator\n",
        "a=45\n",
        "b=15\n",
        "# For Addition\n",
        "print(\"a + b :\",a + b)\n",
        "\n",
        "# For Subtraction\n",
        "print(\"a - b :\",a - b)\n",
        "\n",
        "# For Multiplication\n",
        "print(\"a * b :\",a * b)\n",
        "\n",
        "# For Division\n",
        "print(\"a / b :\",a / b)\n",
        "\n",
        "# For Modulus\n",
        "print(\"a % b :\",a % b)"
      ],
      "metadata": {
        "colab": {
          "base_uri": "https://localhost:8080/"
        },
        "id": "E7ekudugqeeZ",
        "outputId": "fff1a226-615f-41f0-d621-94eeeab39786"
      },
      "execution_count": 72,
      "outputs": [
        {
          "output_type": "stream",
          "name": "stdout",
          "text": [
            "a + b : 60\n",
            "a - b : 30\n",
            "a * b : 675\n",
            "a / b : 3.0\n",
            "a % b : 0\n"
          ]
        }
      ]
    },
    {
      "cell_type": "code",
      "source": [
        "# 2. Comparison Operators\n",
        "a=10\n",
        "b=20\n",
        "# Equal\n",
        "print(\"a == b :\", a == b)\n",
        "\n",
        "# Not Equal\n",
        "print(\"a != b :\",a != b)\n",
        "\n",
        "# Greater than or Equal to\n",
        "print(\"a >= b :\",a >= b)\n",
        "\n",
        "# Less than or Equal to\n",
        "print(\"a <= b :\",a <= b)"
      ],
      "metadata": {
        "colab": {
          "base_uri": "https://localhost:8080/"
        },
        "id": "4UM49qSes1Kb",
        "outputId": "3e2e4199-78c3-40ae-c248-25683e95ffab"
      },
      "execution_count": 71,
      "outputs": [
        {
          "output_type": "stream",
          "name": "stdout",
          "text": [
            "a == b : False\n",
            "a != b : True\n",
            "a >= b : False\n",
            "a <= b : True\n"
          ]
        }
      ]
    },
    {
      "cell_type": "code",
      "source": [
        "# 3. Assignment Operators\n",
        "a = 10\n",
        "\n",
        "# Addition Assignment\n",
        "a += 5\n",
        "print(\"a += 5\", a)\n",
        "\n",
        "# Subtraction Assignment\n",
        "a -= 5\n",
        "print(\"a -= 5\", a)"
      ],
      "metadata": {
        "colab": {
          "base_uri": "https://localhost:8080/"
        },
        "id": "S7eC5hZruJr-",
        "outputId": "18e97f43-0df3-4bde-9ddb-f453d01731a9"
      },
      "execution_count": 73,
      "outputs": [
        {
          "output_type": "stream",
          "name": "stdout",
          "text": [
            "a += 5 15\n",
            "a -= 5 10\n"
          ]
        }
      ]
    },
    {
      "cell_type": "code",
      "source": [
        "# 4. Bitwise Operators : execute operations on individual bits of binary integers.\n",
        "a = 60\n",
        "b = 15\n",
        "\n",
        "# Binary AND\n",
        "c = a & b\n",
        "print(\"a & b :\",c)\n",
        "\n",
        "# Binary OR\n",
        "c = a | b\n",
        "print(\"a | b :\",c)\n",
        "\n",
        "# Binary XOR\n",
        "c = a ^ b\n",
        "print(\"a ^ b :\",c)\n"
      ],
      "metadata": {
        "colab": {
          "base_uri": "https://localhost:8080/"
        },
        "id": "vcLHbMlB11Jw",
        "outputId": "792fce7e-af3f-464b-9da3-68b8b88d8264"
      },
      "execution_count": 74,
      "outputs": [
        {
          "output_type": "stream",
          "name": "stdout",
          "text": [
            "a & b : 12\n",
            "a | b : 63\n",
            "a ^ b : 51\n"
          ]
        }
      ]
    },
    {
      "cell_type": "code",
      "source": [
        "# 5. Logical operators : are used to compose Bollean expressions and evaluate their truth values.Python has three basic logical opearors: AND,OR,NOT\n",
        "\n",
        "x = 15\n",
        "y = 10\n",
        "if x > 11 and y < 15:\n",
        "  print(\"Both conditions are True\")"
      ],
      "metadata": {
        "colab": {
          "base_uri": "https://localhost:8080/"
        },
        "id": "cyKXF8xV3TMg",
        "outputId": "85ec9916-8fd0-4eec-c8d1-0acf8a7226de"
      },
      "execution_count": 75,
      "outputs": [
        {
          "output_type": "stream",
          "name": "stdout",
          "text": [
            "Both conditions are True\n"
          ]
        }
      ]
    },
    {
      "cell_type": "code",
      "source": [
        "# 6. Membership operators are used to determine whether or not a certain value occurs within a sequence.\n",
        "\n",
        "list = [1, 2, 3, 4, 5]\n",
        "if 3 in list:\n",
        "  print(\"3 is in the list\")\n",
        "else:\n",
        "  print(\"3 is not in the list\")"
      ],
      "metadata": {
        "colab": {
          "base_uri": "https://localhost:8080/"
        },
        "id": "VLZLrZWB44-R",
        "outputId": "13faa5b1-4d2f-40a2-ac12-5569cb4f02df"
      },
      "execution_count": 76,
      "outputs": [
        {
          "output_type": "stream",
          "name": "stdout",
          "text": [
            "3 is in the list\n"
          ]
        }
      ]
    },
    {
      "cell_type": "code",
      "source": [
        "# 7. Identity operators are used to compare two objects memory addresses rather than their values.\n",
        "\n",
        "x = 15\n",
        "y = 10\n",
        "if x is y:\n",
        "  print(\"x and y have the same memory address\")\n",
        "else:\n",
        "  print(\"x and y have different memory addresses\")"
      ],
      "metadata": {
        "colab": {
          "base_uri": "https://localhost:8080/"
        },
        "id": "llpnfGzE54sV",
        "outputId": "2fc0f989-f65d-4d90-a43a-4a16a001fbe0"
      },
      "execution_count": 77,
      "outputs": [
        {
          "output_type": "stream",
          "name": "stdout",
          "text": [
            "x and y have different memory addresses\n"
          ]
        }
      ]
    },
    {
      "cell_type": "markdown",
      "source": [
        "5. Explain the concept of type casting in Python with examples.\n",
        "- Type casting in Python refers to the process of converting one data type into another. It's often used when you need to perform operations between different data types, or when taking input from the user, which is typically in the form of a string.\n"
      ],
      "metadata": {
        "id": "AGX2UoyG6k6i"
      }
    },
    {
      "cell_type": "code",
      "source": [
        "# 1. Implicit Type Casting: - Python automatically converts one data type to another without user involvement.\n",
        "\n",
        "x = 10      # Integer\n",
        "y = 2.5     # Float\n",
        "\n",
        "result = x + y  # x is automatically converted to float\n",
        "print(result)   # Output: 12.5\n",
        "print(type(result))  # Output: <class 'float'>\n"
      ],
      "metadata": {
        "colab": {
          "base_uri": "https://localhost:8080/"
        },
        "id": "-L2H6a7M9HYL",
        "outputId": "c741cad3-1229-4905-a63f-87367cc27cc1"
      },
      "execution_count": 78,
      "outputs": [
        {
          "output_type": "stream",
          "name": "stdout",
          "text": [
            "12.5\n",
            "<class 'float'>\n"
          ]
        }
      ]
    },
    {
      "cell_type": "markdown",
      "source": [
        "2. Explicit Type Casting\n",
        "- The programmer manually converts one data type into another using built-in functions.\n",
        "\n",
        "Common type casting functions:\n",
        "\n",
        "  int() – converts to integer\n",
        "\n",
        "  float() – converts to float\n",
        "\n",
        "  str() – converts to string\n",
        "\n",
        "  bool() – converts to boolean\n",
        "\n"
      ],
      "metadata": {
        "id": "yEs2C_lS-GV0"
      }
    },
    {
      "cell_type": "code",
      "source": [
        "# Converting string to int\n",
        "num_str = \"100\"\n",
        "num_int = int(num_str)\n",
        "\n",
        "print(num_int + 50)       # Output: 150\n",
        "print(type(num_int))      # Output: <class 'int'>\n"
      ],
      "metadata": {
        "colab": {
          "base_uri": "https://localhost:8080/"
        },
        "id": "J_MsReil-CE5",
        "outputId": "a3b1ffdf-6fb9-4595-ea64-d97c1bffa392"
      },
      "execution_count": 79,
      "outputs": [
        {
          "output_type": "stream",
          "name": "stdout",
          "text": [
            "150\n",
            "<class 'int'>\n"
          ]
        }
      ]
    },
    {
      "cell_type": "markdown",
      "source": [
        "6. how do condittional statements work in python ? illustrate with examples.\n",
        "- Conditional statements in Python allow your program to make decisions based on whether a certain condition is True or False. The most common conditional statements are if, elif (short for \"else if\"), and else.\n"
      ],
      "metadata": {
        "id": "ncvjjcaV_Nh-"
      }
    },
    {
      "cell_type": "code",
      "source": [
        "# Basic if Statement\n",
        "x = 10\n",
        "\n",
        "if x > 5:            # The condition x > 5 is checked. Since it's True, the message is printed.\n",
        "    print(\"x is greater than 5\")\n"
      ],
      "metadata": {
        "colab": {
          "base_uri": "https://localhost:8080/"
        },
        "id": "tXfmWEyu_b5y",
        "outputId": "f8adfea6-14f3-4efa-eb17-b74c7bfe20ac"
      },
      "execution_count": 80,
      "outputs": [
        {
          "output_type": "stream",
          "name": "stdout",
          "text": [
            "x is greater than 5\n"
          ]
        }
      ]
    },
    {
      "cell_type": "code",
      "source": [
        "# if-else Statement\n",
        "x = 3\n",
        "\n",
        "if x > 5:                          # If the condition is False, the code under else runs.\n",
        "    print(\"x is greater than 5\")\n",
        "else:\n",
        "    print(\"x is 5 or less\")\n"
      ],
      "metadata": {
        "colab": {
          "base_uri": "https://localhost:8080/"
        },
        "id": "74VEc7Mm_xx2",
        "outputId": "6fe8b119-ebb7-46de-b6b8-b8f45f4d3419"
      },
      "execution_count": 81,
      "outputs": [
        {
          "output_type": "stream",
          "name": "stdout",
          "text": [
            "x is 5 or less\n"
          ]
        }
      ]
    },
    {
      "cell_type": "code",
      "source": [
        "# if-elif-else Ladder\n",
        "x = 5\n",
        "\n",
        "if x > 5:                                        # Python checks each condition from top to bottom and executes the first block that is True.\n",
        "    print(\"x is greater than 5\")\n",
        "elif x == 5:\n",
        "    print(\"x is exactly 5\")\n",
        "else:\n",
        "    print(\"x is less than 5\")\n"
      ],
      "metadata": {
        "colab": {
          "base_uri": "https://localhost:8080/"
        },
        "id": "dO8ka_le_9jT",
        "outputId": "0e87e3e8-154d-41df-8e37-50932d012db9"
      },
      "execution_count": 82,
      "outputs": [
        {
          "output_type": "stream",
          "name": "stdout",
          "text": [
            "x is exactly 5\n"
          ]
        }
      ]
    },
    {
      "cell_type": "code",
      "source": [
        "# Nested if Statements\n",
        "x = 10\n",
        "\n",
        "if x > 5:\n",
        "    if x > 8:\n",
        "        print(\"x is greater than 8\")\n",
        "    else:\n",
        "        print(\"x is between 5 and 8\")"
      ],
      "metadata": {
        "colab": {
          "base_uri": "https://localhost:8080/"
        },
        "id": "A8aoIOD1AM-p",
        "outputId": "e6dd2d68-5855-4ff0-c4ae-031b16d666f9"
      },
      "execution_count": 83,
      "outputs": [
        {
          "output_type": "stream",
          "name": "stdout",
          "text": [
            "x is greater than 8\n"
          ]
        }
      ]
    },
    {
      "cell_type": "markdown",
      "source": [
        "7. Describe the different types of loops in python and their use cases with examples.\n",
        "- In Python, loops are used to execute a block of code repeatedly. There are two main types of loops:\n",
        "\n",
        "- Use Cases:\n",
        "Iterating over elements in a list\n",
        "\n",
        "Repeating an action a fixed number of times\n",
        "\n",
        "Working with strings, dictionaries, etc.\n",
        "\n",
        "- Example 1: Loop through a list"
      ],
      "metadata": {
        "id": "6UOLtBurA7W_"
      }
    },
    {
      "cell_type": "code",
      "source": [
        "# Example 1: Loop through a list\n",
        "fruits = [\"apple\", \"banana\", \"cherry\"]\n",
        "\n",
        "for fruit in fruits:\n",
        "    print(fruit)\n"
      ],
      "metadata": {
        "colab": {
          "base_uri": "https://localhost:8080/"
        },
        "id": "6Doeys9_Bgni",
        "outputId": "664ea13d-6c14-41b5-ad07-c30d18483c9e"
      },
      "execution_count": 84,
      "outputs": [
        {
          "output_type": "stream",
          "name": "stdout",
          "text": [
            "apple\n",
            "banana\n",
            "cherry\n"
          ]
        }
      ]
    },
    {
      "cell_type": "code",
      "source": [
        "# Example 2: Using range()\n",
        "for i in range(5):\n",
        "    print(\"Number:\", i)\n"
      ],
      "metadata": {
        "colab": {
          "base_uri": "https://localhost:8080/"
        },
        "id": "RkHPcYcaBs9M",
        "outputId": "8930c731-ecfd-4310-8fa9-4500c2e37b41"
      },
      "execution_count": 85,
      "outputs": [
        {
          "output_type": "stream",
          "name": "stdout",
          "text": [
            "Number: 0\n",
            "Number: 1\n",
            "Number: 2\n",
            "Number: 3\n",
            "Number: 4\n"
          ]
        }
      ]
    },
    {
      "cell_type": "markdown",
      "source": [
        "2. while Loop\n",
        "The while loop runs as long as a given condition is True.\n",
        "\n",
        "✅ Use Cases:\n",
        "When the number of iterations is not known in advance\n",
        "\n",
        "Waiting for a condition to become false (like in games or real-time applications)\n",
        "\n",
        "🔸 Example 1: Basic while loop"
      ],
      "metadata": {
        "id": "oqHA-7QmCGmc"
      }
    },
    {
      "cell_type": "code",
      "source": [
        "count = 0\n",
        "\n",
        "while count < 5:\n",
        "    print(\"Count is:\", count)\n",
        "    count += 1\n"
      ],
      "metadata": {
        "colab": {
          "base_uri": "https://localhost:8080/"
        },
        "id": "tu9lA4cbCJUA",
        "outputId": "eed3d91b-a3a2-458e-dbad-4a84db9022d1"
      },
      "execution_count": 86,
      "outputs": [
        {
          "output_type": "stream",
          "name": "stdout",
          "text": [
            "Count is: 0\n",
            "Count is: 1\n",
            "Count is: 2\n",
            "Count is: 3\n",
            "Count is: 4\n"
          ]
        }
      ]
    },
    {
      "cell_type": "code",
      "source": [
        "# Example 2: Using break to exit loop\n",
        "x = 0\n",
        "\n",
        "while True:\n",
        "    print(x)\n",
        "    x += 1\n",
        "    if x == 3:\n",
        "        break\n"
      ],
      "metadata": {
        "colab": {
          "base_uri": "https://localhost:8080/"
        },
        "id": "QAqhbBanCQbN",
        "outputId": "4ffaac6b-3653-4201-e99f-c16fc710e17c"
      },
      "execution_count": 88,
      "outputs": [
        {
          "output_type": "stream",
          "name": "stdout",
          "text": [
            "0\n",
            "1\n",
            "2\n"
          ]
        }
      ]
    }
  ]
}